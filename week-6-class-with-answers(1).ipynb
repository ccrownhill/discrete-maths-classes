{
 "cells": [
  {
   "cell_type": "markdown",
   "metadata": {},
   "source": [
    "The advertising company \"Greedy Oligarchs & Other Grubby Lowdown Evildoers\" has $n$ clients and wants to maximise their revenues before their initial public offering in $T$ days. They decide to concentrate each day on a single advertising campaign for a single client. For example, on day 1 they might advertise for client 3, on day 2 for client 7 and day 3 back to client 3 again. Some clients are bigger than others and so make more money, but repeatedly advertising for the same clients has diminishing returns. The first day of advertising for client $i$ they will make $c_i$. The second day of advertising for the same client, $c_i/2$, the third day $c_i/4$ and so on, at day $k$ for client $i$ they will make $c_i/2^k$, so it might make sense for them to advertise one day with one client, and then another day with another client, and so on.\n",
    "\n",
    "$1$. Devise a greedy algorithm to maximise their profit, but do not worry about efficiency of your program for the moment. Describe your program in words."
   ]
  },
  {
   "cell_type": "markdown",
   "metadata": {},
   "source": [
    "**Answer**. Go day by day. Keep track of how many days you have advertised for each client, and how much you would make if you advertised with that client the next day. Each day, choose the client where one additional day would give you the maximum profit."
   ]
  },
  {
   "cell_type": "markdown",
   "metadata": {},
   "source": [
    "$2$. Prove that the greedy choice property holds."
   ]
  },
  {
   "cell_type": "markdown",
   "metadata": {},
   "source": [
    "**Answer**. Suppose an optimal choice for 5 days were something like A1-B1-C1-C2-B2, where the letter is the name of the client, and the number is which day of advertising for that client it is. So on day 1, you advertise for client A and it's the first day of doing that. On day 2, you advertise for client B and it's the first day of doing that, and so on. Consider all the lowest numbered days for each client, i.e. A1, B1, C1. Which of these days brings in the biggest profit?\n",
    "\n",
    "Suppose it's B1. We can now pull B1 to the front and get B1-A1-C1-C2-B2. The profits won't change, but now the choice (between A1/B1/C1) that maximises profit has been brought to the front.\n",
    "\n",
    "The other option is it may be that client D not in the answer brings in the biggest profit. If so, remove the final item from your \"optimal choice\" and insert D at the beginning, and your profit would go up, so this isn't possible.\n",
    "\n",
    "In other words, always picking the optimal choice for any given day will lead to a globally optimal solution."
   ]
  },
  {
   "cell_type": "markdown",
   "metadata": {},
   "source": [
    "$3$. What is the complexity of your algorithm?"
   ]
  },
  {
   "cell_type": "markdown",
   "metadata": {},
   "source": [
    "**Answer**. Each day, we need to maximise over $n$ choices, so the complexity is $O(nT)$."
   ]
  },
  {
   "cell_type": "markdown",
   "metadata": {},
   "source": [
    "$4$ (optional). Look up the [Fibonacci heap priority queue](https://en.wikipedia.org/wiki/Fibonacci_heap). Use this to improve your algorithm. Write code or pseudocode, and compute the complexity of your algorithm. Find a solution when ``c=[2, 3, 5]`` and ``T=10``."
   ]
  },
  {
   "cell_type": "markdown",
   "metadata": {},
   "source": [
    "**Answer**. The Fibonacci heap allows you to insert items with cost $O(1)$, find the minimum item remaining with cost $O(1)$ and delete the minimum item with cost $O(\\log n)$. Rather than recomputing the best choice for each day, we initialise our heap with $-c_i$ for client $i$ (total cost is $nO(1)=O(n)$). Each day, we pick the smallest value ($O(1)$). This corresponds to the client which would give the largest revenue. We run that campaign, and replace $-c_i$ with $-c_i/2$, for which the cost is $O(\\log n)$ to remove the lowest element, and $O(1)$ to reinsert the modified element. So, the total cost is $O(n)$ to initialise, and then for each day is $O(\\log n)$, so total cost is $O(n+T\\log n)$.\n",
    "\n",
    "Here is some code to implement this. Note that the built in priority queue in Python is not a Fibonacci heap but a binary tree, so the code below will be $O(T\\log n + n \\log n)$, but simply replacing the queue with a Fibonacci heap would give the result above."
   ]
  },
  {
   "cell_type": "code",
   "execution_count": 9,
   "metadata": {},
   "outputs": [
    {
     "data": {
      "text/plain": [
       "(18.125, [2, 1, 2, 0, 1, 2, 0, 1, 2, 0])"
      ]
     },
     "execution_count": 9,
     "metadata": {},
     "output_type": "execute_result"
    }
   ],
   "source": [
    "import heapq\n",
    "def greed_is_good(c, T):\n",
    "    n = len(c)\n",
    "    # priority queue consisting of pairs (priority, client)\n",
    "    # priority is -profit_for_next_day because heapq is a min\n",
    "    # queue\n",
    "    pq = [(-c[i], i) for i in range(n)]\n",
    "    heapq.heapify(pq)\n",
    "    totalprofit = 0\n",
    "    solution = []\n",
    "    for t in range(T):\n",
    "        # best client for next day is one with min priority\n",
    "        # (max profit for one extra day of advertising)\n",
    "        profit, client = heapq.heappop(pq)\n",
    "        totalprofit += -profit\n",
    "        solution.append(client)\n",
    "        heapq.heappush(pq, (profit/2, client))\n",
    "    return totalprofit, solution\n",
    "\n",
    "greed_is_good([2, 3, 5], 10)"
   ]
  },
  {
   "cell_type": "markdown",
   "metadata": {},
   "source": [
    "Note that this question is a modified form of the 2018 exam, Q2."
   ]
  }
 ],
 "metadata": {
  "kernelspec": {
   "display_name": "Python 3 (ipykernel)",
   "language": "python",
   "name": "python3"
  },
  "language_info": {
   "codemirror_mode": {
    "name": "ipython",
    "version": 3
   },
   "file_extension": ".py",
   "mimetype": "text/x-python",
   "name": "python",
   "nbconvert_exporter": "python",
   "pygments_lexer": "ipython3",
   "version": "3.10.4"
  }
 },
 "nbformat": 4,
 "nbformat_minor": 4
}
