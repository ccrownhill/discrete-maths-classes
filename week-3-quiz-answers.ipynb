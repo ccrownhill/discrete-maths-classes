{
 "cells": [
  {
   "cell_type": "markdown",
   "metadata": {},
   "source": [
    "# Q1\n",
    "\n",
    "For the following recurrence, use the master method to compute its complexity:\n",
    "\n",
    "$$T(n)=8T(n/4)+O(n)$$\n",
    "\n",
    "This is an application of the master method with $a=8$, $b=4$, $d=1$ so $\\log_b a=\\log_4 8=1.5>1=d$ so $T(n)=O(n^{\\log_b a})=O(n^{1.5})$.\n",
    "\n",
    "# Q2\n",
    "\n",
    "You have a naive algorithm that takes time $O(n^2)$ to complete. You devise a divide and conquer approach which takes $T(n)=a T(n/3)+O(n)$ to complete. What is the largest value of $a$ for which this method is better than or equal to the naive method?\n",
    "\n",
    "We compute the time for the new algorithm using the master method, with $d=1$. As long as $\\log_b a\\neq d$ we have\n",
    "\n",
    "$$T(n)=O(n^c)$$\n",
    "\n",
    "where\n",
    "\n",
    "$$c = \\max\\{ \\log_b a, d \\} = \\max\\{ \\log_3 a, 1 \\}$$\n",
    "\n",
    "So we will always have that the new method is better or equal if $c\\leq 2$, that is if $\\log_3 a\\leq 2$, or $a\\leq 9$."
   ]
  },
  {
   "cell_type": "markdown",
   "metadata": {},
   "source": [
    "# Q3-4\n",
    "\n",
    "Write a divide and conquer algorithm to search a sorted array for a value. It should return -1 if the value is not in the array, or the index of the value in the array if it is.\n",
    "\n",
    "What is the complexity of your algorithm?"
   ]
  },
  {
   "cell_type": "code",
   "execution_count": 21,
   "metadata": {},
   "outputs": [
    {
     "data": {
      "text/plain": [
       "1"
      ]
     },
     "execution_count": 21,
     "metadata": {},
     "output_type": "execute_result"
    }
   ],
   "source": [
    "def search(A, x):\n",
    "    # Handle base cases\n",
    "    if len(A)==0:\n",
    "        return -1\n",
    "    if len(A)==1:\n",
    "        if A[0]==x:\n",
    "            return 0\n",
    "        return -1\n",
    "    # find the midpoint\n",
    "    m = len(A)//2\n",
    "    if A[m]==x: # have we found it? if so return it\n",
    "        return m\n",
    "    elif A[m]>x: # is it the left half?\n",
    "        return search(A[:m], x)\n",
    "    else: # is it in the right half?\n",
    "        s = search(A[m+1:], x)\n",
    "        if s==-1:\n",
    "            return -1\n",
    "        else:\n",
    "            return m+1+s\n",
    "\n",
    "search([1,3,4,6,9], 3)"
   ]
  },
  {
   "cell_type": "markdown",
   "metadata": {},
   "source": [
    "This code satisfies $T(n)=T(n/2)+O(1)$.\n",
    "\n",
    "$a=1$, $b=2$, $d=0$\n",
    "\n",
    "$\\log_b(a)=\\log_2(1)=0=d$\n",
    "\n",
    "So\n",
    "\n",
    "$T(n)=O(n^d\\log n)=O(\\log n)$\n",
    "\n",
    "In fact, this is just a complicated way of doing binary search."
   ]
  }
 ],
 "metadata": {
  "kernelspec": {
   "display_name": "Python 3",
   "language": "python",
   "name": "python3"
  },
  "language_info": {
   "codemirror_mode": {
    "name": "ipython",
    "version": 3
   },
   "file_extension": ".py",
   "mimetype": "text/x-python",
   "name": "python",
   "nbconvert_exporter": "python",
   "pygments_lexer": "ipython3",
   "version": "3.9.2"
  }
 },
 "nbformat": 4,
 "nbformat_minor": 4
}
