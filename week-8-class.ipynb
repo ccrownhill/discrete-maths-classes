{
 "cells": [
  {
   "cell_type": "code",
   "execution_count": 2,
   "metadata": {},
   "outputs": [],
   "source": [
    "# Ignore\n",
    "from IPython.display import Image"
   ]
  },
  {
   "cell_type": "markdown",
   "metadata": {},
   "source": [
    "## Q1. Write pseudocode for a parallel version of merge sort using a serial merge step. Compute the span and parallelism of your code. How useful is this code?\n",
    "\n",
    "You may assume that the work is unchanged, $O(n\\log n)$"
   ]
  },
  {
   "cell_type": "markdown",
   "metadata": {},
   "source": [
    "```\n",
    "merge_sort (A):\n",
    "    if len(A) <= 1:\n",
    "        return A\n",
    "    len := len(A)\n",
    "    first := A[:len/2]\n",
    "    second := A[len/2:]\n",
    "\n",
    "    first_sorted := spawn merge_sort(first)\n",
    "    second_sorted := spawn merge_sort(second)\n",
    "    sync\n",
    "\n",
    "    return merge(first_sorted, second_sorted)\n",
    "```\n",
    "\n",
    "with\n",
    "\n",
    "```\n",
    "merge (first, second):\n",
    "    out := empty array of len (len(first) + len(second))\n",
    "    i, j := 0, 0\n",
    "    for k from 0 to (len(first) + len(second)):\n",
    "        if (j >= len(second)) || (first[i] <= second[j]):\n",
    "            out[k] := first[i]\n",
    "            i++\n",
    "        else if (i >= len(first)) || (second[j] < first[i]):\n",
    "            out[k] := second[j]\n",
    "            j++\n",
    "```\n",
    "\n",
    "The span is\n",
    "\n",
    "$$T_{\\infty}(n) = max(T_{\\infty}(n/2), T_{\\infty}(n/2)) + O(n) = T_{\\infty}(n/2) + O(n)$$\n",
    "\n",
    "and with the master method we this since $log_2(1) = 0 < 1$:\n",
    "\n",
    "$$T_{\\infty}(n) = O(n)$$\n",
    "\n",
    "which gives us a parallelism of\n",
    "\n",
    "$$T_1/T_{\\infty} = log(n)$$"
   ]
  },
  {
   "cell_type": "markdown",
   "metadata": {},
   "source": [
    "## Q2. Write pseudocode for a parallel merge step, using the hints below. Compute its span.\n",
    "\n",
    "If you're merging L and R, find the midpoint value x of L, and divide L and R into halves which are less than or greater than x. Use an efficient (serial) algorithm to find the midpoint of R. Find an upper bound of the span of the two spawned merge steps."
   ]
  },
  {
   "cell_type": "markdown",
   "metadata": {},
   "source": [
    "```\n",
    "parallel_merge_sort A:\n",
    "    if len(A) <= 1:\n",
    "        return A\n",
    "    len := len(A)\n",
    "    first := A[:len/2]\n",
    "    second := A[len/2:]\n",
    "\n",
    "    first_sorted := spawn parallel_merge_sort(first)\n",
    "    second_sorted := spawn parallel_merge_sort(second)\n",
    "    sync\n",
    "\n",
    "    return parallel_merge(first, second)\n",
    "\n",
    "parallel_merge l, r:\n",
    "    first_mid := l[len(l)/2]\n",
    "    second_mid_idx := split_search(r, l[first_mid])\n",
    "    first_l := l[:first_mid]\n",
    "    first_r := l[first_mid+1:]\n",
    "    second_l := r[:second_mid_idx]\n",
    "    second_r := r[second_mid_idx:]\n",
    "    \n",
    "    left := spawn parallel_merge(first_l, second_l)\n",
    "    right := spawn parallel_merge(first_r, second_r)\n",
    "    sync\n",
    "\n",
    "    return left + first[first_mid] + right\n",
    "\n",
    "split_search A, x:\n",
    "    if len(A) = 1:\n",
    "        return 0 # always return some index\n",
    "    mid :=len(A)/2\n",
    "    if x > A[mid]:\n",
    "        return mid + split_search(A[mid+1:])\n",
    "    else if x == mid:\n",
    "        return mid\n",
    "    else\n",
    "        return binary_search(A[:mid])\n",
    "```"
   ]
  },
  {
   "cell_type": "code",
   "execution_count": 2,
   "metadata": {},
   "outputs": [
    {
     "data": {
      "text/html": [
       "<img src=\"parallel-merge-hint.png\"/>"
      ],
      "text/plain": [
       "<IPython.core.display.Image object>"
      ]
     },
     "execution_count": 2,
     "metadata": {},
     "output_type": "execute_result"
    }
   ],
   "source": [
    "Image(url=\"parallel-merge-hint.png\")"
   ]
  },
  {
   "cell_type": "markdown",
   "metadata": {},
   "source": [
    "\n",
    "<div class=\"alert alert-block alert-info\">\n",
    "You may want to use the following variant of the master method:\n",
    "\n",
    "If $T(n)=aT(n/b)+f(n)$ and $f(n)=\\Theta(n^{\\log_b a}(\\log n)^k)$ then $T(n)=\\Theta(n^{\\log_b a}(\\log n)^{k+1})$.\n",
    "</div>"
   ]
  },
  {
   "cell_type": "markdown",
   "metadata": {},
   "source": [
    "$$T_{\\infty}(n) = T_{\\infty}(n/2) + O(log n)$$\n",
    "\n",
    "which gives us the above rule with $log_b(a) = 0$ and $k = 1$ to give:\n",
    "\n",
    "$$T_{\\infty}(n) = O((log n)^2)$$"
   ]
  },
  {
   "cell_type": "markdown",
   "metadata": {},
   "source": [
    "## Q3. Write pseudocode for a fully parallel merge sort, and compute its span and parallelism. How useful is this code?\n",
    "\n",
    "You may again assume the work is $O(n\\log n)$."
   ]
  },
  {
   "cell_type": "markdown",
   "metadata": {},
   "source": [
    "See above for the pseudocode.\n",
    "\n",
    "It's span is:\n",
    "\n",
    "$$T_{\\infty}(n) = T_{\\infty}(n/2) + O((log n)^2)$$\n",
    "\n",
    "which gives (using the same rule as above with $k = 2$):\n",
    "\n",
    "$$T_{\\infty}(n) = O((log n)^3)$$\n",
    "\n",
    "This gives a parallelism of\n",
    "\n",
    "$$T_1/T_{\\infty} = n / (log n)^2$$"
   ]
  },
  {
   "cell_type": "markdown",
   "metadata": {},
   "source": [
    "## Q4 (optional). Write code to implement this and verify that it works.\n",
    "\n",
    "You don't need to actually use multiple processors, just verify that the code works."
   ]
  },
  {
   "cell_type": "code",
   "execution_count": 47,
   "metadata": {},
   "outputs": [],
   "source": [
    "def split_search(l, x):\n",
    "    if len(l) == 1:\n",
    "        return 0 if x < l[0] else 1\n",
    "    if len(l) == 0:\n",
    "        return 0\n",
    "    mid = len(l)//2\n",
    "    if x == l[mid]:\n",
    "        return mid\n",
    "    elif x < l[mid]:\n",
    "        return split_search(l[:mid], x)\n",
    "    else:\n",
    "        return mid + 1 + split_search(l[mid+1:], x)\n",
    "\n",
    "def parallel_merge(l, r):\n",
    "    if len(l) < 1 or len(r) < 1:\n",
    "        return l + r\n",
    "    first_mid = len(l)//2\n",
    "    second_mid = split_search(r, l[first_mid])\n",
    "    first_l = l[:first_mid]\n",
    "    first_r = l[first_mid+1:]\n",
    "    second_l = r[:second_mid]\n",
    "    second_r = r[second_mid:]\n",
    "    \n",
    "    left = parallel_merge(first_l, second_l)\n",
    "    right = parallel_merge(first_r, second_r)\n",
    "\n",
    "    return left + [l[first_mid]] + right\n",
    "\n",
    "def parallel_merge_sort(l):\n",
    "    if len(l) <= 1:\n",
    "        return l\n",
    "    mid = len(l)//2\n",
    "    left = l[:mid]\n",
    "    right = l[mid:]\n",
    "\n",
    "    left_sorted = parallel_merge_sort(left)\n",
    "    right_sorted = parallel_merge_sort(right)\n",
    "\n",
    "    return parallel_merge(left_sorted, right_sorted)"
   ]
  },
  {
   "cell_type": "code",
   "execution_count": 49,
   "metadata": {},
   "outputs": [
    {
     "data": {
      "text/plain": [
       "[1, 3, 3, 4, 5, 10, 200]"
      ]
     },
     "execution_count": 49,
     "metadata": {},
     "output_type": "execute_result"
    }
   ],
   "source": [
    "parallel_merge_sort([10, 3, 1, 3, 4, 5, 200])"
   ]
  },
  {
   "cell_type": "code",
   "execution_count": null,
   "metadata": {},
   "outputs": [],
   "source": []
  }
 ],
 "metadata": {
  "kernelspec": {
   "display_name": "Python 3.11.0 ('dmclass')",
   "language": "python",
   "name": "python3"
  },
  "language_info": {
   "codemirror_mode": {
    "name": "ipython",
    "version": 3
   },
   "file_extension": ".py",
   "mimetype": "text/x-python",
   "name": "python",
   "nbconvert_exporter": "python",
   "pygments_lexer": "ipython3",
   "version": "3.10.12"
  },
  "vscode": {
   "interpreter": {
    "hash": "6a49734ee071ffa0c8c241132785defaa79e59e5d82f90ac60edfabf8372010d"
   }
  }
 },
 "nbformat": 4,
 "nbformat_minor": 4
}
