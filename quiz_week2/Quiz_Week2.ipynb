{
 "cells": [
  {
   "cell_type": "code",
   "execution_count": 5,
   "id": "b4d6d79d-29d4-48ae-b1ac-9baf998e94fe",
   "metadata": {},
   "outputs": [],
   "source": [
    "def pow(x: float, n):\n",
    "    print(\n",
    "    if n <= 0:\n",
    "        return 1.0\n",
    "    elif n % 2 == 0:\n",
    "        return x * x * pow(x, n - 2)\n",
    "    else:\n",
    "        return x * pow(x, n - 1)"
   ]
  },
  {
   "cell_type": "code",
   "execution_count": 6,
   "id": "cb763b2f-91e1-447b-bca9-a7919686e0b4",
   "metadata": {},
   "outputs": [
    {
     "name": "stdout",
     "output_type": "stream",
     "text": [
      "3\n",
      "2\n",
      "0\n"
     ]
    },
    {
     "data": {
      "text/plain": [
       "27.0"
      ]
     },
     "execution_count": 6,
     "metadata": {},
     "output_type": "execute_result"
    }
   ],
   "source": [
    "pow(3, 3)"
   ]
  },
  {
   "cell_type": "code",
   "execution_count": null,
   "id": "2aa1e179-c7bb-4785-a5c2-5df5db964474",
   "metadata": {},
   "outputs": [],
   "source": []
  }
 ],
 "metadata": {
  "kernelspec": {
   "display_name": "Python 3 (ipykernel)",
   "language": "python",
   "name": "python3"
  },
  "language_info": {
   "codemirror_mode": {
    "name": "ipython",
    "version": 3
   },
   "file_extension": ".py",
   "mimetype": "text/x-python",
   "name": "python",
   "nbconvert_exporter": "python",
   "pygments_lexer": "ipython3",
   "version": "3.10.12"
  }
 },
 "nbformat": 4,
 "nbformat_minor": 5
}
