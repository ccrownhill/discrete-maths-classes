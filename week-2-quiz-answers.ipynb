{
 "cells": [
  {
   "cell_type": "markdown",
   "metadata": {},
   "source": [
    "Solution 1: check all pairs, grows like $O(n^2)$."
   ]
  },
  {
   "cell_type": "code",
   "execution_count": 4,
   "metadata": {},
   "outputs": [
    {
     "data": {
      "text/plain": [
       "[1, 3, 5, 4]"
      ]
     },
     "execution_count": 4,
     "metadata": {},
     "output_type": "execute_result"
    }
   ],
   "source": [
    "def unique_items(X):\n",
    "    U = []\n",
    "    for x in X:\n",
    "        has_it = False\n",
    "        for u in U:\n",
    "            if u==x:\n",
    "                has_it = True\n",
    "                break\n",
    "        if not has_it:\n",
    "            U.append(x)\n",
    "    return U\n",
    "\n",
    "unique_items([1,3,5,3,4,1,1,3,5])"
   ]
  },
  {
   "cell_type": "markdown",
   "metadata": {},
   "source": [
    "Solution 2: first sort ($O(n\\log n)$) and then iterate through only adding an item if it's different from the previous item $O(n)$. Total is $O(n\\log n)$."
   ]
  },
  {
   "cell_type": "code",
   "execution_count": 5,
   "metadata": {},
   "outputs": [
    {
     "data": {
      "text/plain": [
       "[1, 3, 4, 5]"
      ]
     },
     "execution_count": 5,
     "metadata": {},
     "output_type": "execute_result"
    }
   ],
   "source": [
    "def unique_items(X):\n",
    "    X = sorted(X)\n",
    "    U = []\n",
    "    for i in range(len(X)):\n",
    "        if i==0 or X[i]!=X[i-1]:\n",
    "            U.append(X[i])\n",
    "    return U\n",
    "\n",
    "unique_items([1,3,5,3,4,1,1,3,5])"
   ]
  },
  {
   "cell_type": "markdown",
   "metadata": {},
   "source": [
    "Solution 3: use a hash table based set, a data structure in which each item is guaranteed to be unique. Adding each item is $O(1)$ so the total is $O(n)$."
   ]
  },
  {
   "cell_type": "code",
   "execution_count": 6,
   "metadata": {},
   "outputs": [
    {
     "data": {
      "text/plain": [
       "[1, 3, 4, 5]"
      ]
     },
     "execution_count": 6,
     "metadata": {},
     "output_type": "execute_result"
    }
   ],
   "source": [
    "def unique_items(X):\n",
    "    return list(set(X))\n",
    "\n",
    "unique_items([1,3,5,3,4,1,1,3,5])"
   ]
  }
 ],
 "metadata": {
  "kernelspec": {
   "display_name": "Python 3",
   "language": "python",
   "name": "python3"
  },
  "language_info": {
   "codemirror_mode": {
    "name": "ipython",
    "version": 3
   },
   "file_extension": ".py",
   "mimetype": "text/x-python",
   "name": "python",
   "nbconvert_exporter": "python",
   "pygments_lexer": "ipython3",
   "version": "3.9.2"
  }
 },
 "nbformat": 4,
 "nbformat_minor": 4
}
