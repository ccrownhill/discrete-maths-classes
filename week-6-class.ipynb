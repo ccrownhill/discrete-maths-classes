{
 "cells": [
  {
   "cell_type": "markdown",
   "metadata": {},
   "source": [
    "The advertising company \"Greedy Oligarchs & Other Grubby Lowdown Evildoers\" has $n$ clients and wants to maximise their revenues before their initial public offering in $T$ days. They decide to concentrate each day on a single advertising campaign for a single client. For example, on day 1 they might advertise for client 3, on day 2 for client 7 and day 3 back to client 3 again. Some clients are bigger than others and so make more money, but repeatedly advertising for the same clients has diminishing returns. The first day of advertising for client $i$ they will make $c_i$. The second day of advertising for the same client, $c_i/2$, the third day $c_i/4$ and so on, at day $k$ for client $i$ they will make $c_i/2^k$, so it might make sense for them to advertise one day with one client, and then another day with another client, and so on.\n",
    "\n",
    "1. Devise a greedy algorithm to maximise their profit, but do not worry about efficiency of your program for the moment. Describe your program in words.\n",
    "\n",
    "2. Prove that the greedy choice property holds.\n",
    "\n",
    "3. What is the complexity of your algorithm? Note you should give your answer in terms of $n$ and $T$. (This two variable complexity notation is not examinable.)\n",
    "\n",
    "4. (optional) Look up the [Fibonacci heap priority queue](https://en.wikipedia.org/wiki/Fibonacci_heap). Use this to improve your algorithm. Write code or pseudocode, and compute the complexity of your algorithm. Find a solution when ``c=[2, 3, 5]`` and ``T=10``."
   ]
  },
  {
   "cell_type": "markdown",
   "metadata": {},
   "source": [
    "Greedy algorithm:\n",
    "\n",
    "```\n",
    "have\n",
    "list of client revenues\n",
    "output\n",
    "sort clients # n log n\n",
    "for d in T:\n",
    "    max_client = max(client revenues)\n",
    "    remove max client from list\n",
    "    output += max_client\n",
    "    max_client /= 2\n",
    "    idx = find index for new client idx\n",
    "    client review[idx] = max_client\n",
    "```\n",
    "\n",
    "It has the greedy choice property because there is a best choice for every subproblem (every day)\n",
    "\n",
    "Complexity: $n log n$ for initial sorting plus $T$ times $log n$ for inserting:\n",
    "\n",
    "$$O(n + T) log n$$"
   ]
  },
  {
   "cell_type": "code",
   "execution_count": 8,
   "metadata": {},
   "outputs": [],
   "source": [
    "\n",
    "def soln(c, T):\n",
    "    c = sorted(c, reverse=True)\n",
    "    output = 0\n",
    "    for d in range(1, T+1):\n",
    "        best_client = c.pop(0)\n",
    "        output += best_client\n",
    "        best_client /= 2\n",
    "        for i in range(len(c)):\n",
    "            if best_client < c[i]:\n",
    "                c.insert(i+1, best_client)\n",
    "    return output"
   ]
  },
  {
   "cell_type": "code",
   "execution_count": 9,
   "metadata": {},
   "outputs": [
    {
     "data": {
      "text/plain": [
       "15.5"
      ]
     },
     "execution_count": 9,
     "metadata": {},
     "output_type": "execute_result"
    }
   ],
   "source": [
    "c = [2, 3, 5]\n",
    "T = 10\n",
    "soln(c,T)"
   ]
  },
  {
   "cell_type": "code",
   "execution_count": null,
   "metadata": {},
   "outputs": [],
   "source": []
  }
 ],
 "metadata": {
  "kernelspec": {
   "display_name": "Python 3 (ipykernel)",
   "language": "python",
   "name": "python3"
  },
  "language_info": {
   "codemirror_mode": {
    "name": "ipython",
    "version": 3
   },
   "file_extension": ".py",
   "mimetype": "text/x-python",
   "name": "python",
   "nbconvert_exporter": "python",
   "pygments_lexer": "ipython3",
   "version": "3.10.12"
  }
 },
 "nbformat": 4,
 "nbformat_minor": 4
}
